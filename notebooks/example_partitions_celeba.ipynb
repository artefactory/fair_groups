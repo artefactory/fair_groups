{
 "cells": [
  {
   "cell_type": "code",
   "execution_count": null,
   "id": "7ac912f6",
   "metadata": {},
   "outputs": [],
   "source": [
    "import sys\n",
    "import os\n",
    "\n",
    "# Add the project root to sys.path\n",
    "sys.path.append(os.path.abspath(\"..\"))\n",
    "\n",
    "import numpy as np\n",
    "import pandas as pd\n",
    "\n",
    "import matplotlib.pyplot as plt\n",
    "\n",
    "from partitions.fairseg import FairSeg\n",
    "from partitions.fairness_metrics import compute_phi_sp_ci\n",
    "from partitions.visualization import plot_partition, plot_partition_with_ci"
   ]
  },
  {
   "cell_type": "code",
   "execution_count": null,
   "id": "c450417a",
   "metadata": {},
   "outputs": [],
   "source": [
    "data_root = '/data/raw_data/veronika_shilova/celeba_female_cross_val_5_epoch'\n",
    "\n",
    "df_female = pd.read_csv(os.path.join(data_root, 'df_female.csv'))"
   ]
  },
  {
   "cell_type": "code",
   "execution_count": null,
   "id": "10dc43af",
   "metadata": {},
   "outputs": [],
   "source": [
    "ita = df_female['ITA'].values\n",
    "y_pred = df_female['y_pred']"
   ]
  },
  {
   "cell_type": "markdown",
   "id": "2bd30d7b",
   "metadata": {},
   "source": [
    "## FairSeg partition of $ITA$"
   ]
  },
  {
   "cell_type": "code",
   "execution_count": null,
   "id": "7ddd4655",
   "metadata": {},
   "outputs": [],
   "source": [
    "fairseg = FairSeg(k=6)"
   ]
  },
  {
   "cell_type": "code",
   "execution_count": null,
   "id": "45903878",
   "metadata": {},
   "outputs": [],
   "source": [
    "fairseg.compute_partition(ita, y_pred)"
   ]
  },
  {
   "cell_type": "code",
   "execution_count": null,
   "id": "667c9db0",
   "metadata": {},
   "outputs": [],
   "source": [
    "plot_partition(fairseg.partition, fairseg.phi_by_group)"
   ]
  },
  {
   "cell_type": "code",
   "execution_count": null,
   "id": "7918f719",
   "metadata": {},
   "outputs": [],
   "source": [
    "fairseg_partition_ci = np.array([compute_phi_sp_ci((ita >= fairseg.partition[i]) & (ita <= fairseg.partition[i+1]),\n",
    "                                                   y_pred,\n",
    "                                                   alpha=.95) \n",
    "                                 for i in range(len(fairseg.partition)-1)])"
   ]
  },
  {
   "cell_type": "code",
   "execution_count": null,
   "id": "7d45b97e",
   "metadata": {},
   "outputs": [],
   "source": [
    "plot_partition_with_ci(fairseg.partition, fairseg_partition_ci)"
   ]
  },
  {
   "cell_type": "code",
   "execution_count": null,
   "id": "8cc4e3ef",
   "metadata": {},
   "outputs": [],
   "source": []
  }
 ],
 "metadata": {
  "kernelspec": {
   "display_name": "robustness-env",
   "language": "python",
   "name": "robustness-env"
  },
  "language_info": {
   "codemirror_mode": {
    "name": "ipython",
    "version": 3
   },
   "file_extension": ".py",
   "mimetype": "text/x-python",
   "name": "python",
   "nbconvert_exporter": "python",
   "pygments_lexer": "ipython3",
   "version": "3.12.3"
  }
 },
 "nbformat": 4,
 "nbformat_minor": 5
}
