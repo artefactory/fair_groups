{
 "cells": [
  {
   "cell_type": "code",
   "execution_count": null,
   "id": "7ac912f6",
   "metadata": {},
   "outputs": [],
   "source": [
    "import sys\n",
    "import os\n",
    "\n",
    "# Add the project root to sys.path\n",
    "sys.path.append(os.path.abspath(\"..\"))\n",
    "\n",
    "import numpy as np\n",
    "import pandas as pd\n",
    "\n",
    "import matplotlib.pyplot as plt\n",
    "\n",
    "from fair_segmentation.partition_estimation import compute_partition\n",
    "from fair_segmentation.fairness_metrics import compute_phi_sp_ci\n",
    "from fair_segmentation.visualization import plot_partition, plot_partition_with_ci"
   ]
  },
  {
   "cell_type": "code",
   "execution_count": null,
   "id": "c450417a",
   "metadata": {},
   "outputs": [],
   "source": [
    "data_root = '/data/raw_data/veronika_shilova/celeba_female_cross_val_5_epoch'\n",
    "\n",
    "df_female = pd.read_csv(os.path.join(data_root, 'df_female.csv'))"
   ]
  },
  {
   "cell_type": "code",
   "execution_count": null,
   "id": "2af79ec4",
   "metadata": {},
   "outputs": [],
   "source": [
    "ita = df_female['ITA'].values\n",
    "y_pred = df_female['y_pred']"
   ]
  },
  {
   "cell_type": "code",
   "execution_count": null,
   "id": "0982e6ea",
   "metadata": {},
   "outputs": [],
   "source": [
    "nb_groups = 6"
   ]
  },
  {
   "cell_type": "markdown",
   "id": "b2ef8e79",
   "metadata": {},
   "source": [
    "## FairSeg partition of $ITA$"
   ]
  },
  {
   "cell_type": "code",
   "execution_count": null,
   "id": "2decda42",
   "metadata": {},
   "outputs": [],
   "source": [
    "result_fairseg = compute_partition(\"fairseg\", nb_groups, ita, y_pred)"
   ]
  },
  {
   "cell_type": "code",
   "execution_count": null,
   "id": "4ab3d8a4",
   "metadata": {},
   "outputs": [],
   "source": [
    "plot_partition(result_fairseg['partition'], result_fairseg['phi'])"
   ]
  },
  {
   "cell_type": "code",
   "execution_count": null,
   "id": "74e60868",
   "metadata": {},
   "outputs": [],
   "source": [
    "S_fairseg = [(ita >= result_fairseg['partition'][i]) & (ita <= result_fairseg['partition'][i+1]) \n",
    "             for i in range(nb_groups)]\n",
    "\n",
    "fairseg_partition_ci = np.array([compute_phi_sp_ci(S_fairseg[i], y_pred, alpha=.95) \n",
    "                                 for i in range(nb_groups)])"
   ]
  },
  {
   "cell_type": "code",
   "execution_count": null,
   "id": "e4cc1b4c",
   "metadata": {},
   "outputs": [],
   "source": [
    "plot_partition_with_ci(result_fairseg['partition'], fairseg_partition_ci)"
   ]
  },
  {
   "cell_type": "markdown",
   "id": "ba4dc0f2",
   "metadata": {},
   "source": [
    "## K-Means partition of ITA"
   ]
  },
  {
   "cell_type": "code",
   "execution_count": null,
   "id": "2c607cc1",
   "metadata": {},
   "outputs": [],
   "source": [
    "result_kmeans = compute_partition(\"k-means\", nb_groups, ita, y_pred)"
   ]
  },
  {
   "cell_type": "code",
   "execution_count": null,
   "id": "171f6213",
   "metadata": {},
   "outputs": [],
   "source": [
    "plot_partition(result_kmeans['partition'], result_kmeans['phi'])"
   ]
  },
  {
   "cell_type": "code",
   "execution_count": null,
   "id": "6881fe04",
   "metadata": {},
   "outputs": [],
   "source": [
    "S_kmeans = [(ita >= result_kmeans['partition'][i]) & (ita <= result_kmeans['partition'][i+1]) \n",
    "            for i in range(nb_groups)]\n",
    "\n",
    "kmeans_partition_ci = np.array([compute_phi_sp_ci(S_kmeans[i], y_pred, alpha=.95) \n",
    "                                for i in range(nb_groups)])"
   ]
  },
  {
   "cell_type": "code",
   "execution_count": null,
   "id": "361eadd5",
   "metadata": {},
   "outputs": [],
   "source": [
    "plot_partition_with_ci(result_kmeans['partition'], kmeans_partition_ci)"
   ]
  },
  {
   "cell_type": "code",
   "execution_count": null,
   "id": "6231343e",
   "metadata": {},
   "outputs": [],
   "source": []
  }
 ],
 "metadata": {
  "kernelspec": {
   "display_name": "robustness-env",
   "language": "python",
   "name": "robustness-env"
  },
  "language_info": {
   "codemirror_mode": {
    "name": "ipython",
    "version": 3
   },
   "file_extension": ".py",
   "mimetype": "text/x-python",
   "name": "python",
   "nbconvert_exporter": "python",
   "pygments_lexer": "ipython3",
   "version": "3.12.3"
  }
 },
 "nbformat": 4,
 "nbformat_minor": 5
}
