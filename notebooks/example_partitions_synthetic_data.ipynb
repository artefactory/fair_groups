{
 "cells": [
  {
   "cell_type": "code",
   "execution_count": null,
   "id": "c123566d",
   "metadata": {},
   "outputs": [],
   "source": [
    "import sys\n",
    "import os\n",
    "\n",
    "# Add the project root to sys.path\n",
    "sys.path.append(os.path.abspath(\"..\"))\n",
    "\n",
    "import numpy as np\n",
    "import matplotlib.pyplot as plt\n",
    "\n",
    "from fair_grouping.partition_estimation import FairGroups, FairKMeans\n",
    "from fair_grouping.fairness_metrics import compute_phi_sp_ci, get_conditional_positive_y_proba\n",
    "from fair_grouping.visualization import plot_partition, plot_partition_with_ci, plot_conditional_proba"
   ]
  },
  {
   "cell_type": "code",
   "execution_count": null,
   "id": "0e6875b0",
   "metadata": {},
   "outputs": [],
   "source": [
    "np.random.seed(13)"
   ]
  },
  {
   "cell_type": "code",
   "execution_count": null,
   "id": "a8cba937",
   "metadata": {},
   "outputs": [],
   "source": [
    "nb_groups = 5\n",
    "nb_obs = 10000\n",
    "s_min = 0\n",
    "s_max = 100\n",
    "# Ground truth partition\n",
    "gt_partition = np.array([0, 20, 30, 55, 88, 100])\n",
    "\n",
    "s = np.random.uniform(0, 100, nb_obs*nb_groups)\n",
    "\n",
    "y_probs = np.linspace(0.1, 0.9, nb_groups)\n",
    "y = np.zeros(len(s))\n",
    "\n",
    "for i in range(len(gt_partition)-1):\n",
    "    mask = (s >= gt_partition[i]) & (s <= gt_partition[i+1])\n",
    "    y[mask] = np.random.binomial(1, y_probs[i], np.sum(mask))"
   ]
  },
  {
   "cell_type": "code",
   "execution_count": null,
   "id": "e39a5ab1",
   "metadata": {},
   "outputs": [],
   "source": [
    "s_bins, y_s_proba = get_conditional_positive_y_proba(s, y)\n",
    "plot_conditional_proba(s_bins, y_s_proba, 'S')"
   ]
  },
  {
   "cell_type": "markdown",
   "id": "6041f48e",
   "metadata": {},
   "source": [
    "## FairGroups partition of $S$"
   ]
  },
  {
   "cell_type": "code",
   "execution_count": null,
   "id": "1d40e049",
   "metadata": {},
   "outputs": [],
   "source": [
    "fair_groups = FairGroups(nb_groups)\n",
    "fair_groups.fit(s, y)"
   ]
  },
  {
   "cell_type": "code",
   "execution_count": null,
   "id": "4b753d88",
   "metadata": {},
   "outputs": [],
   "source": [
    "fair_groups.phi_by_group"
   ]
  },
  {
   "cell_type": "code",
   "execution_count": null,
   "id": "c9d83c41",
   "metadata": {},
   "outputs": [],
   "source": [
    "fair_groups.phi_by_group_ci"
   ]
  },
  {
   "cell_type": "code",
   "execution_count": null,
   "id": "3317a3ef",
   "metadata": {},
   "outputs": [],
   "source": [
    "plot_partition(fair_groups.partition, fair_groups.phi_by_group, 'S')"
   ]
  },
  {
   "cell_type": "code",
   "execution_count": null,
   "id": "434b608f",
   "metadata": {},
   "outputs": [],
   "source": [
    "plot_partition_with_ci(fair_groups.partition, fair_groups.phi_by_group_ci, 'S')"
   ]
  },
  {
   "cell_type": "markdown",
   "id": "cd086f52",
   "metadata": {},
   "source": [
    "## FairKMeans partition of $S$"
   ]
  },
  {
   "cell_type": "code",
   "execution_count": null,
   "id": "f75b5a7a",
   "metadata": {},
   "outputs": [],
   "source": [
    "fair_kmeans = FairKMeans(nb_groups)\n",
    "fair_kmeans.fit(s, y)"
   ]
  },
  {
   "cell_type": "code",
   "execution_count": null,
   "id": "95a9585f",
   "metadata": {},
   "outputs": [],
   "source": [
    "fair_kmeans.phi_by_group"
   ]
  },
  {
   "cell_type": "code",
   "execution_count": null,
   "id": "97e5edb9",
   "metadata": {},
   "outputs": [],
   "source": [
    "plot_partition(fair_kmeans.partition, fair_kmeans.phi_by_group, 'S')"
   ]
  },
  {
   "cell_type": "code",
   "execution_count": null,
   "id": "df34482d",
   "metadata": {},
   "outputs": [],
   "source": [
    "plot_partition_with_ci(fair_kmeans.partition, fair_kmeans.phi_by_group_ci, 'S')"
   ]
  },
  {
   "cell_type": "code",
   "execution_count": null,
   "id": "1a355286",
   "metadata": {},
   "outputs": [],
   "source": []
  }
 ],
 "metadata": {
  "kernelspec": {
   "display_name": "robustness-env",
   "language": "python",
   "name": "robustness-env"
  },
  "language_info": {
   "codemirror_mode": {
    "name": "ipython",
    "version": 3
   },
   "file_extension": ".py",
   "mimetype": "text/x-python",
   "name": "python",
   "nbconvert_exporter": "python",
   "pygments_lexer": "ipython3",
   "version": "3.12.3"
  }
 },
 "nbformat": 4,
 "nbformat_minor": 5
}
