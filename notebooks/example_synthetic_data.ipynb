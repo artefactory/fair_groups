{
 "cells": [
  {
   "cell_type": "markdown",
   "metadata": {},
   "source": [
    "# Example: Fair Partitioning of Synthetic Data\n",
    "\n",
    "This notebook demonstrates the use of fair partitioning algorithms (FairGroups and FairKMeans) on synthetic data following the experiments in our paper. We create a dataset with known ground truth partitions and compare how different algorithms perform in identifying fair groups.\n",
    "\n",
    "We suppose that $L \\sim \\mathcal{U}(0,100)$ and corresponding $Y \\sim  Bernoulli(p(L))$, where $p(L) = 0.1 \\times\\mathbf{1}_{\\{L \\leq 20\\}} + 0.3 \\times\\mathbf{1}_{\\{20 < L \\leq 30\\}} + 0.5\\times\\mathbf{1}_{\\{30 < L \\leq 55\\}} + 0.7\\times\\mathbf{1}_{\\{55 < L \\leq 88\\}} + 0.9\\times\\mathbf{1}_{\\{88 < L \\leq 100\\}}$. We sample $N=50000$ pairs of observations $(L, Y)$ from this distribution $\\mathcal{D}$. \n",
    "\n",
    "We apply FairKMeans and FairGroups methods to find the partition $\\mathcal{P} = \\{\\mathcal{P}_k\\}_{k=1}^K$ of $L$, using $\\Phi(S^\\mathcal{P}) = \\mathbb{P}(Y = 1 | S^\\mathcal{P}) - \\mathbb{P}(Y = 1)$, where $S^\\mathcal{P} = k \\iff L \\in \\mathcal{P}_k, \\text{ where } k=1,\\dots,K$. "
   ]
  },
  {
   "cell_type": "code",
   "execution_count": null,
   "id": "c123566d",
   "metadata": {},
   "outputs": [],
   "source": [
    "import numpy as np\n",
    "import sys\n",
    "sys.path.append('..')\n",
    "\n",
    "# Import fair grouping algorithms and utility functions\n",
    "from fair_groups.partition_estimation import FairGroups, FairKMeans\n",
    "from fair_groups.fairness_metrics import get_conditional_positive_y_proba\n",
    "from fair_groups.visualization import plot_partition, plot_partition_with_ci, plot_conditional_proba\n",
    "from data.synthetic_data import load_synthetic_data\n",
    "\n",
    "# Set random seed for reproducibility\n",
    "np.random.seed(13)"
   ]
  },
  {
   "cell_type": "markdown",
   "metadata": {},
   "source": [
    "## 1. Load Synthetic Dataset"
   ]
  },
  {
   "cell_type": "code",
   "execution_count": null,
   "id": "a8cba937",
   "metadata": {},
   "outputs": [],
   "source": [
    "# Generate synthetic data for testing fair partitioning algorithms\n",
    "n_groups = 5\n",
    "n_obs = 10000\n",
    "\n",
    "s, y, gt_partition, y_probs = load_synthetic_data(n_groups, n_obs)"
   ]
  },
  {
   "cell_type": "code",
   "execution_count": null,
   "id": "e39a5ab1",
   "metadata": {},
   "outputs": [],
   "source": [
    "# Visualize the conditional probability of positive outcome given feature S\n",
    "s_bins, y_s_proba = get_conditional_positive_y_proba(s, y)\n",
    "plot_conditional_proba(s_bins, y_s_proba, 'L')"
   ]
  },
  {
   "cell_type": "markdown",
   "id": "6041f48e",
   "metadata": {},
   "source": [
    "## 2. FairGroups Partition of $L$\n",
    "\n",
    "FairGroups is an algorithm that aims to create groups with similar positive outcome rates while maintaining reasonable group sizes. Let's see how it performs on our synthetic data."
   ]
  },
  {
   "cell_type": "code",
   "execution_count": null,
   "id": "1d40e049",
   "metadata": {},
   "outputs": [],
   "source": [
    "# Initialize and fit the FairGroups algorithm\n",
    "fair_groups = FairGroups(n_groups)\n",
    "fair_groups.fit(s, y)"
   ]
  },
  {
   "cell_type": "code",
   "execution_count": null,
   "id": "4b753d88",
   "metadata": {},
   "outputs": [],
   "source": [
    "# Display the fairness metric (phi) for each group\n",
    "fair_groups.phi_by_group"
   ]
  },
  {
   "cell_type": "code",
   "execution_count": null,
   "id": "c9d83c41",
   "metadata": {},
   "outputs": [],
   "source": [
    "# Display confidence intervals for the fairness metric (phi)\n",
    "fair_groups.phi_by_group_ci"
   ]
  },
  {
   "cell_type": "code",
   "execution_count": null,
   "id": "3317a3ef",
   "metadata": {},
   "outputs": [],
   "source": [
    "# Visualize the partition and group-wise positive outcome rates\n",
    "plot_partition(fair_groups.partition, fair_groups.phi_by_group, 'L')"
   ]
  },
  {
   "cell_type": "code",
   "execution_count": null,
   "id": "434b608f",
   "metadata": {},
   "outputs": [],
   "source": [
    "# Visualize the partition with confidence intervals\n",
    "plot_partition_with_ci(fair_groups.partition, fair_groups.phi_by_group_ci, 'L')"
   ]
  },
  {
   "cell_type": "markdown",
   "id": "cd086f52",
   "metadata": {},
   "source": [
    "## 3. FairKMeans Partition of $L$\n",
    "\n",
    "FairKMeans is an alternative algorithm that uses a k-means-like approach to create fair groups. It aims to minimize the variance in positive outcome rates while maintaining reasonable group sizes."
   ]
  },
  {
   "cell_type": "code",
   "execution_count": null,
   "id": "f75b5a7a",
   "metadata": {},
   "outputs": [],
   "source": [
    "# Initialize and fit the FairKMeans algorithm\n",
    "fair_kmeans = FairKMeans(n_groups)\n",
    "fair_kmeans.fit(s, y)"
   ]
  },
  {
   "cell_type": "code",
   "execution_count": null,
   "id": "95a9585f",
   "metadata": {},
   "outputs": [],
   "source": [
    "# Display the positive outcome rates (phi) for each group\n",
    "fair_kmeans.phi_by_group"
   ]
  },
  {
   "cell_type": "code",
   "execution_count": null,
   "id": "97e5edb9",
   "metadata": {},
   "outputs": [],
   "source": [
    "# Visualize the partition and group-wise positive outcome rates\n",
    "plot_partition(fair_kmeans.partition, fair_kmeans.phi_by_group, 'L')"
   ]
  },
  {
   "cell_type": "code",
   "execution_count": null,
   "id": "df34482d",
   "metadata": {},
   "outputs": [],
   "source": [
    "# Visualize the partition with confidence intervals\n",
    "plot_partition_with_ci(fair_kmeans.partition, fair_kmeans.phi_by_group_ci, 'L')"
   ]
  }
 ],
 "metadata": {
  "kernelspec": {
   "display_name": "fairenv",
   "language": "python",
   "name": "fairenv"
  },
  "language_info": {
   "codemirror_mode": {
    "name": "ipython",
    "version": 3
   },
   "file_extension": ".py",
   "mimetype": "text/x-python",
   "name": "python",
   "nbconvert_exporter": "python",
   "pygments_lexer": "ipython3",
   "version": "3.9.6"
  }
 },
 "nbformat": 4,
 "nbformat_minor": 2
}
