{
 "cells": [
  {
   "cell_type": "markdown",
   "metadata": {},
   "source": [
    "# Example: Fair Partitioning of Synthetic Data\n",
    "\n",
    "This notebook demonstrates the use of fair partitioning algorithms (FairGroups and FairKMeans) on synthetic data. We'll create a dataset with known ground truth partitions and compare how different algorithms perform in identifying fair groups.\n",
    "\n",
    "We suppose that $L \\sim \\mathcal{U}(0,100)$ and corresponding $Y \\sim  Bernoulli(p(L))$, where $p(L) = 0.1 \\times\\mathbf{1}_{\\{L \\leq 20\\}} + 0.3 \\times\\mathbf{1}_{\\{20 < L \\leq 30\\}} + 0.5\\times\\mathbf{1}_{\\{30 < L \\leq 55\\}} + 0.7\\times\\mathbf{1}_{\\{55 < L \\leq 88\\}} + 0.9\\times\\mathbf{1}_{\\{88 < L \\leq 100\\}}$. We sample $N=50000$ pairs of observations $(L, Y)$ from this distribution $\\mathcal{D}$. \n",
    "\n",
    "We apply FairKMeans and FairGroups methods to find the partition $\\mathcal{P} = \\{\\mathcal{P}_k\\}_{k=1}^K$ of $L$, using $\\Phi(S^\\mathcal{P}) = \\mathbb{P}(Y = 1 | S^\\mathcal{P}) - \\mathbb{P}(Y = 1)$, where $S^\\mathcal{P} = k \\iff L \\in \\mathcal{P}_k, \\text{ where } k=1,\\dots,K$. "
   ]
  },
  {
   "cell_type": "code",
   "execution_count": 1,
   "id": "c123566d",
   "metadata": {},
   "outputs": [],
   "source": [
    "import numpy as np\n",
    "\n",
    "# Import fair grouping algorithms and utility functions\n",
    "from fair_partition.partition_estimation import FairGroups, FairKMeans\n",
    "from fair_partition.fairness_metrics import get_conditional_positive_y_proba\n",
    "from fair_partition.visualization import plot_partition, plot_partition_with_ci, plot_conditional_proba"
   ]
  },
  {
   "cell_type": "code",
   "execution_count": 2,
   "id": "0e6875b0",
   "metadata": {},
   "outputs": [],
   "source": [
    "# Set random seed for reproducibility\n",
    "np.random.seed(13)"
   ]
  },
  {
   "cell_type": "code",
   "execution_count": 3,
   "id": "a8cba937",
   "metadata": {},
   "outputs": [],
   "source": [
    "# Generate synthetic data\n",
    "nb_groups = 5  # Number of groups to partition into\n",
    "nb_obs = 10000  # Number of observations per group\n",
    "\n",
    "# Define ground truth partition boundaries\n",
    "gt_partition = np.array([0, 20, 30, 55, 88, 100])\n",
    "\n",
    "# Generate random feature values L uniformly distributed between 0 and 100\n",
    "# This is a sensitive variable\n",
    "s_min = 0  # Minimum value for feature L\n",
    "s_max = 100  # Maximum value for feature L\n",
    "s = np.random.uniform(0, 100, nb_obs*nb_groups)\n",
    "\n",
    "# Generate binary labels Y with different probabilities for each group\n",
    "y_probs = np.linspace(0.1, 0.9, nb_groups)  # Linearly spaced probabilities from 0.1 to 0.9\n",
    "y = np.zeros(len(s))\n",
    "\n",
    "# Assign labels based on the ground truth partition\n",
    "for i in range(len(gt_partition)-1):\n",
    "    mask = (s >= gt_partition[i]) & (s <= gt_partition[i+1])\n",
    "    y[mask] = np.random.binomial(1, y_probs[i], np.sum(mask))"
   ]
  },
  {
   "cell_type": "code",
   "execution_count": null,
   "id": "e39a5ab1",
   "metadata": {},
   "outputs": [],
   "source": [
    "# Visualize the conditional probability of positive outcome given feature S\n",
    "s_bins, y_s_proba = get_conditional_positive_y_proba(s, y)\n",
    "plot_conditional_proba(s_bins, y_s_proba, 'L')"
   ]
  },
  {
   "cell_type": "markdown",
   "id": "6041f48e",
   "metadata": {},
   "source": [
    "## FairGroups Partition of $L$\n",
    "\n",
    "FairGroups is an algorithm that aims to create groups with similar positive outcome rates while maintaining reasonable group sizes. Let's see how it performs on our synthetic data."
   ]
  },
  {
   "cell_type": "code",
   "execution_count": null,
   "id": "1d40e049",
   "metadata": {},
   "outputs": [],
   "source": [
    "# Initialize and fit the FairGroups algorithm\n",
    "fair_groups = FairGroups(nb_groups)\n",
    "fair_groups.fit(s, y)"
   ]
  },
  {
   "cell_type": "code",
   "execution_count": null,
   "id": "4b753d88",
   "metadata": {},
   "outputs": [],
   "source": [
    "# Display the positive outcome rates (phi) for each group\n",
    "fair_groups.phi_by_group"
   ]
  },
  {
   "cell_type": "code",
   "execution_count": null,
   "id": "c9d83c41",
   "metadata": {},
   "outputs": [],
   "source": [
    "# Display confidence intervals for the positive outcome rates\n",
    "fair_groups.phi_by_group_ci"
   ]
  },
  {
   "cell_type": "code",
   "execution_count": null,
   "id": "3317a3ef",
   "metadata": {},
   "outputs": [],
   "source": [
    "# Visualize the partition and group-wise positive outcome rates\n",
    "plot_partition(fair_groups.partition, fair_groups.phi_by_group, 'L')"
   ]
  },
  {
   "cell_type": "code",
   "execution_count": null,
   "id": "434b608f",
   "metadata": {},
   "outputs": [],
   "source": [
    "# Visualize the partition with confidence intervals\n",
    "plot_partition_with_ci(fair_groups.partition, fair_groups.phi_by_group_ci, 'L')"
   ]
  },
  {
   "cell_type": "markdown",
   "id": "cd086f52",
   "metadata": {},
   "source": [
    "## FairKMeans Partition of $L$\n",
    "\n",
    "FairKMeans is an alternative algorithm that uses a k-means-like approach to create fair groups. It aims to minimize the variance in positive outcome rates while maintaining reasonable group sizes."
   ]
  },
  {
   "cell_type": "code",
   "execution_count": null,
   "id": "f75b5a7a",
   "metadata": {},
   "outputs": [],
   "source": [
    "# Initialize and fit the FairKMeans algorithm\n",
    "fair_kmeans = FairKMeans(nb_groups)\n",
    "fair_kmeans.fit(s, y)"
   ]
  },
  {
   "cell_type": "code",
   "execution_count": null,
   "id": "95a9585f",
   "metadata": {},
   "outputs": [],
   "source": [
    "# Display the positive outcome rates (phi) for each group\n",
    "fair_kmeans.phi_by_group"
   ]
  },
  {
   "cell_type": "code",
   "execution_count": null,
   "id": "97e5edb9",
   "metadata": {},
   "outputs": [],
   "source": [
    "# Visualize the partition and group-wise positive outcome rates\n",
    "plot_partition(fair_kmeans.partition, fair_kmeans.phi_by_group, 'L')"
   ]
  },
  {
   "cell_type": "code",
   "execution_count": null,
   "id": "df34482d",
   "metadata": {},
   "outputs": [],
   "source": [
    "# Visualize the partition with confidence intervals\n",
    "plot_partition_with_ci(fair_kmeans.partition, fair_kmeans.phi_by_group_ci, 'L')"
   ]
  }
 ],
 "metadata": {
  "kernelspec": {
   "display_name": "fairenv",
   "language": "python",
   "name": "fairenv"
  },
  "language_info": {
   "codemirror_mode": {
    "name": "ipython",
    "version": 3
   },
   "file_extension": ".py",
   "mimetype": "text/x-python",
   "name": "python",
   "nbconvert_exporter": "python",
   "pygments_lexer": "ipython3",
   "version": "3.9.6"
  }
 },
 "nbformat": 4,
 "nbformat_minor": 2
}
