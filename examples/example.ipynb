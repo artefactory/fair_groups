{
 "cells": [
  {
   "cell_type": "markdown",
   "metadata": {},
   "source": [
    "# FairGroups Partitioning on Folktables Dataset\n",
    "\n",
    "This notebook demonstrates how to use the `FairGroups` class to partition continuous sensitive attributes into groups that maximize the variance of fairness criterion $\\Phi$.\n",
    "\n",
    "## Dataset: Folktables\n",
    "- **Sensitive attribute (S)**: Age\n",
    "- **Outcome variable (Y)**: income (binary: yearly income is above $50,000)\n",
    "\n",
    "## Overview\n",
    "We'll load the Folktables dataset, preprocess it to extract age and income information, and then use FairGroups to partition age into groups that maximize fairness variance."
   ]
  },
  {
   "cell_type": "code",
   "execution_count": null,
   "metadata": {},
   "outputs": [],
   "source": [
    "# Import necessary libraries\n",
    "import numpy as np\n",
    "\n",
    "# Import our FairGroups implementation\n",
    "import sys\n",
    "sys.path.append('..')\n",
    "from fair_groups.partition_estimation import FairGroups\n",
    "from fair_groups.fairness_metrics import get_conditional_positive_y_proba\n",
    "from fair_groups.visualization import plot_partition, plot_partition_with_ci, plot_conditional_proba, plot_group_summary_statistics_table\n",
    "from data.folktables_income_data import load_folktables_data\n",
    "\n",
    "# Set random seed for reproducibility\n",
    "np.random.seed(42)"
   ]
  },
  {
   "cell_type": "markdown",
   "metadata": {},
   "source": [
    "## 1. Load Preprocessed Folktables Dataset"
   ]
  },
  {
   "cell_type": "code",
   "execution_count": null,
   "metadata": {},
   "outputs": [],
   "source": [
    "# Load Folktables dataset\n",
    "age_sample, income_sample = load_folktables_data()"
   ]
  },
  {
   "cell_type": "code",
   "execution_count": null,
   "metadata": {},
   "outputs": [],
   "source": [
    "# Visualize the conditional probability of positive outcome given feature S\n",
    "s_bins, y_s_proba = get_conditional_positive_y_proba(age_sample, income_sample, n_bins=30)\n",
    "plot_conditional_proba(s_bins, y_s_proba, 'Age')"
   ]
  },
  {
   "cell_type": "markdown",
   "metadata": {},
   "source": [
    "## 2. Apply FairGroups Partitioning"
   ]
  },
  {
   "cell_type": "code",
   "execution_count": null,
   "metadata": {},
   "outputs": [],
   "source": [
    "# Initialize FairGroups\n",
    "n_groups = 5\n",
    "grid_size = 50  # Reduced for faster computation\n",
    "\n",
    "print(f\"\\n=== Fitting FairGroups with {n_groups} groups ===\")\n",
    "\n",
    "# Initialize and fit FairGroups\n",
    "fair_groups = FairGroups(n_groups=n_groups, grid_size=grid_size)\n",
    "fair_groups.fit(age_sample, income_sample)\n",
    "\n",
    "# Use the print method\n",
    "print(\"\\nDetailed model information:\")\n",
    "fair_groups.print()"
   ]
  },
  {
   "cell_type": "markdown",
   "metadata": {},
   "source": [
    "## 3. Visualize Partition"
   ]
  },
  {
   "cell_type": "code",
   "execution_count": null,
   "metadata": {},
   "outputs": [],
   "source": [
    "print(\"\\nDetailed analysis of the partition:\")\n",
    "\n",
    "partition = fair_groups.partition\n",
    "\n",
    "group_indices = range(len(partition) - 1)\n",
    "phi_by_group = fair_groups.phi_by_group\n",
    "\n",
    "plot_group_summary_statistics_table(age_sample, income_sample, partition,\n",
    "                                    phi_by_group, sensitive_var_name=\"Age\")"
   ]
  },
  {
   "cell_type": "code",
   "execution_count": null,
   "metadata": {},
   "outputs": [],
   "source": [
    "# Visualization partition\n",
    "phi_by_group_ci = fair_groups.phi_by_group_ci\n",
    "\n",
    "plot_partition(partition, phi_by_group, sensitive_var_name=\"Age\")\n",
    "plot_partition_with_ci(partition, phi_by_group_ci, sensitive_var_name=\"Age\")"
   ]
  },
  {
   "cell_type": "markdown",
   "metadata": {},
   "source": [
    "## 4. Predict groups with FairGroups"
   ]
  },
  {
   "cell_type": "code",
   "execution_count": null,
   "metadata": {},
   "outputs": [],
   "source": [
    "# Test the predict method with new data\n",
    "print(\"Testing predictions with new age values...\")\n",
    "\n",
    "# Create test ages\n",
    "test_ages = np.array([18, 20, 24, 25, 27, 31, 32, 35, 45, 55, 65, 75])\n",
    "predicted_groups = fair_groups.predict(test_ages)\n",
    "\n",
    "print(\"\\nPrediction Results:\")\n",
    "for age, group in zip(test_ages, predicted_groups):\n",
    "    print(f\"Age {age}: Group {group}\")"
   ]
  },
  {
   "cell_type": "markdown",
   "metadata": {},
   "source": []
  }
 ],
 "metadata": {
  "kernelspec": {
   "display_name": "fairenv",
   "language": "python",
   "name": "fairenv"
  },
  "language_info": {
   "codemirror_mode": {
    "name": "ipython",
    "version": 3
   },
   "file_extension": ".py",
   "mimetype": "text/x-python",
   "name": "python",
   "nbconvert_exporter": "python",
   "pygments_lexer": "ipython3",
   "version": "3.9.6"
  }
 },
 "nbformat": 4,
 "nbformat_minor": 4
}
